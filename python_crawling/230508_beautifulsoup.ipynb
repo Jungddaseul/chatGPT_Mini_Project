{
 "cells": [
  {
   "cell_type": "code",
   "execution_count": 1,
   "metadata": {},
   "outputs": [],
   "source": [
    "from urllib.request import urlopen"
   ]
  },
  {
   "cell_type": "code",
   "execution_count": 2,
   "metadata": {},
   "outputs": [
    {
     "data": {
      "text/plain": [
       "<http.client.HTTPResponse at 0x15c6dfd3550>"
      ]
     },
     "execution_count": 2,
     "metadata": {},
     "output_type": "execute_result"
    }
   ],
   "source": [
    "from urllib.request import urlopen\n",
    "## 정보 가져오기\n",
    "url = \"https://finance.naver.com/sise/\"\n",
    "page = urlopen(url)\n",
    "page"
   ]
  },
  {
   "cell_type": "code",
   "execution_count": 3,
   "metadata": {},
   "outputs": [
    {
     "data": {
      "text/plain": [
       "[b\"<script language='javascript'>\\n\",\n",
       " b'\\n',\n",
       " b'function main_tab(tab_title, pst, tab_cnt)\\n',\n",
       " b'{\\n',\n",
       " b'\\tfor(var i=0 ; i<tab_cnt ; i++)\\n',\n",
       " b'\\t{\\n',\n",
       " b'\\t\\tif (i == pst)\\n',\n",
       " b\"\\t\\t\\tdocument.getElementById(tab_title+'_title_tab_'+i).style.display = '';\\n\",\n",
       " b'\\t\\telse\\n',\n",
       " b\"\\t\\t\\tdocument.getElementById(tab_title+'_title_tab_'+i).style.display = 'none';\\n\",\n",
       " b'\\n',\n",
       " b'\\n',\n",
       " b'\\t\\tif (i == pst)\\n',\n",
       " b\"\\t\\t\\tdocument.getElementById(tab_title+'_tab_'+i).style.display = '';\\n\",\n",
       " b'\\t\\telse\\n',\n",
       " b\"\\t\\t\\tdocument.getElementById(tab_title+'_tab_'+i).style.display = 'none';\\n\",\n",
       " b'\\n',\n",
       " b'\\t}\\n',\n",
       " b'}\\n',\n",
       " b'\\n']"
      ]
     },
     "execution_count": 3,
     "metadata": {},
     "output_type": "execute_result"
    }
   ],
   "source": [
    "listpage = list(page)\n",
    "listpage[0:20]"
   ]
  },
  {
   "cell_type": "code",
   "execution_count": 4,
   "metadata": {},
   "outputs": [],
   "source": [
    "from bs4 import BeautifulSoup\n",
    "\n",
    "page = '''\n",
    "<html>\n",
    "<title>나의 홈페이지</title>\n",
    "<body>\n",
    "<div>\n",
    "<a href=\"https://www.naver.com/\">naver</a>\n",
    "<a href=\"https://www.google.com\">google</a>\n",
    "<img height=\"300\" src=\"dog_01.jpg\" width=\"500\"/>\n",
    "<p> 내가 가장 좋아하는 동물은 강아지입니다.</p>\n",
    "<p> 나는 그리고 네이버 홈페이지에 자주 갑니다.</p>\n",
    "<p class=\"p3\"> 강아지 사진과 네이버 링크 </p>\n",
    "<p id=\"p4\"> 간단한 나의 홈페이지를 만들다.</p>\n",
    "<p class=\"p3\"> 강아지 사진과 네이버 링크222 </p>\n",
    "</div>\n",
    "</body>\n",
    "</html>\n",
    "'''"
   ]
  },
  {
   "cell_type": "code",
   "execution_count": 5,
   "metadata": {},
   "outputs": [
    {
     "data": {
      "text/plain": [
       "<html>\n",
       "<head><title>나의 홈페이지</title>\n",
       "</head><body>\n",
       "<div>\n",
       "<a href=\"https://www.naver.com/\">naver</a>\n",
       "<a href=\"https://www.google.com\">google</a>\n",
       "<img height=\"300\" src=\"dog_01.jpg\" width=\"500\"/>\n",
       "<p> 내가 가장 좋아하는 동물은 강아지입니다.</p>\n",
       "<p> 나는 그리고 네이버 홈페이지에 자주 갑니다.</p>\n",
       "<p class=\"p3\"> 강아지 사진과 네이버 링크 </p>\n",
       "<p id=\"p4\"> 간단한 나의 홈페이지를 만들다.</p>\n",
       "<p class=\"p3\"> 강아지 사진과 네이버 링크222 </p>\n",
       "</div>\n",
       "</body>\n",
       "</html>"
      ]
     },
     "execution_count": 5,
     "metadata": {},
     "output_type": "execute_result"
    }
   ],
   "source": [
    "soup = BeautifulSoup(page, 'lxml')\n",
    "soup"
   ]
  },
  {
   "cell_type": "code",
   "execution_count": 6,
   "metadata": {},
   "outputs": [
    {
     "name": "stdout",
     "output_type": "stream",
     "text": [
      "제목 :  <title>나의 홈페이지</title>\n",
      "첫번째 a태그 요소 :  <a href=\"https://www.naver.com/\">naver</a>\n",
      "첫번째 p태그 요소 :  <p> 내가 가장 좋아하는 동물은 강아지입니다.</p>\n"
     ]
    }
   ],
   "source": [
    "# 요소를 가져오기\n",
    "print(\"제목 : \", soup.title)\n",
    "print(\"첫번째 a태그 요소 : \", soup.a)\n",
    "print(\"첫번째 p태그 요소 : \", soup.p)"
   ]
  },
  {
   "cell_type": "code",
   "execution_count": 8,
   "metadata": {},
   "outputs": [
    {
     "data": {
      "text/plain": [
       "<html>\n",
       "<head><title>나의 홈페이지</title>\n",
       "</head><body>\n",
       "<div>\n",
       "<a href=\"https://www.naver.com/\">naver</a>\n",
       "<a href=\"https://www.google.com\">google</a>\n",
       "<img height=\"300\" src=\"dog_01.jpg\" width=\"500\"/>\n",
       "<p> 내가 가장 좋아하는 동물은 강아지입니다.</p>\n",
       "<p> 나는 그리고 네이버 홈페이지에 자주 갑니다.</p>\n",
       "<p class=\"p3\"> 강아지 사진과 네이버 링크 </p>\n",
       "<p id=\"p4\"> 간단한 나의 홈페이지를 만들다.</p>\n",
       "<p class=\"p3\"> 강아지 사진과 네이버 링크222 </p>\n",
       "</div>\n",
       "</body>\n",
       "</html>"
      ]
     },
     "execution_count": 8,
     "metadata": {},
     "output_type": "execute_result"
    }
   ],
   "source": [
    "soup"
   ]
  },
  {
   "cell_type": "code",
   "execution_count": 23,
   "metadata": {},
   "outputs": [
    {
     "data": {
      "text/plain": [
       "' 내가 가장 좋아하는 동물은 강아지입니다.'"
      ]
     },
     "execution_count": 23,
     "metadata": {},
     "output_type": "execute_result"
    }
   ],
   "source": [
    "# soup 정보에서 body 부분안의 p태그 부분 가져오기\n",
    "soup.body.p.text"
   ]
  },
  {
   "cell_type": "code",
   "execution_count": 10,
   "metadata": {},
   "outputs": [
    {
     "data": {
      "text/plain": [
       "[<a href=\"https://www.naver.com/\">naver</a>,\n",
       " <a href=\"https://www.google.com\">google</a>]"
      ]
     },
     "execution_count": 10,
     "metadata": {},
     "output_type": "execute_result"
    }
   ],
   "source": [
    "# 2-2 추가 실습1 - a태그의 2번째 요소 가져오기\n",
    "# soup.find_all을 이용하여 a의 타입을 확인\n",
    "soup.find_all(\"a\")\n"
   ]
  },
  {
   "cell_type": "code",
   "execution_count": 24,
   "metadata": {},
   "outputs": [
    {
     "data": {
      "text/plain": [
       "'google'"
      ]
     },
     "execution_count": 24,
     "metadata": {},
     "output_type": "execute_result"
    }
   ],
   "source": [
    "# 2-2 추가 실습1 - a태그의 2번째 요소 가져오기\n",
    "a = soup.find_all(\"a\")\n",
    "a[1].text"
   ]
  },
  {
   "cell_type": "code",
   "execution_count": 14,
   "metadata": {},
   "outputs": [
    {
     "data": {
      "text/plain": [
       "' 나는 그리고 네이버 홈페이지에 자주 갑니다.'"
      ]
     },
     "execution_count": 14,
     "metadata": {},
     "output_type": "execute_result"
    }
   ],
   "source": [
    "#2-2 추가 실습2 - p태그의 2번째 요소 가져오기\n",
    "p = soup.find_all(\"p\")\n",
    "p[1].text"
   ]
  },
  {
   "cell_type": "code",
   "execution_count": 19,
   "metadata": {},
   "outputs": [
    {
     "data": {
      "text/plain": [
       "' 간단한 나의 홈페이지를 만들다.'"
      ]
     },
     "execution_count": 19,
     "metadata": {},
     "output_type": "execute_result"
    }
   ],
   "source": [
    "# 2-2 추가 실습3 - p태그의 id가 p4인 요소 가져오기\n",
    "# 방법 1\n",
    "# b = soup.fide('p', id='p4')\n",
    "# b.test\n",
    "\n",
    "# 방법2\n",
    "p4 = soup.find('p', {'id':'p4'})\n",
    "p4.text"
   ]
  },
  {
   "cell_type": "code",
   "execution_count": 20,
   "metadata": {},
   "outputs": [
    {
     "name": "stdout",
     "output_type": "stream",
     "text": [
      "[<p> 내가 가장 좋아하는 동물은 강아지입니다.</p>, <p> 나는 그리고 네이버 홈페이지에 자주 갑니다.</p>, <p class=\"p3\"> 강아지 사진과 네이버 링크 </p>, <p id=\"p4\"> 간단한 나의 홈페이지를 만들다.</p>, <p class=\"p3\"> 강아지 사진과 네이버 링크222 </p>]\n"
     ]
    }
   ],
   "source": [
    "# 2-3 추가 실습4 - p태그 전체를 가져오기\n",
    "p_tags = soup.find_all('p')\n",
    "print(p_tags)"
   ]
  },
  {
   "cell_type": "code",
   "execution_count": 22,
   "metadata": {},
   "outputs": [
    {
     "name": "stdout",
     "output_type": "stream",
     "text": [
      "[<a href=\"https://www.naver.com/\">naver</a>, <a href=\"https://www.google.com\">google</a>]\n",
      "https://www.naver.com/\n",
      "https://www.google.com\n"
     ]
    }
   ],
   "source": [
    "a_adr = soup.find_all('a')\n",
    "print(a_adr)\n",
    "\n",
    "for a in a_adr:\n",
    "    print(a['href'])"
   ]
  },
  {
   "cell_type": "code",
   "execution_count": null,
   "metadata": {},
   "outputs": [],
   "source": [
    "# 2-3 도전 실습1 - img 태그의 이미지를 저장해 보기\n"
   ]
  }
 ],
 "metadata": {
  "kernelspec": {
   "display_name": "Python 3",
   "language": "python",
   "name": "python3"
  },
  "language_info": {
   "codemirror_mode": {
    "name": "ipython",
    "version": 3
   },
   "file_extension": ".py",
   "mimetype": "text/x-python",
   "name": "python",
   "nbconvert_exporter": "python",
   "pygments_lexer": "ipython3",
   "version": "3.10.3"
  },
  "orig_nbformat": 4
 },
 "nbformat": 4,
 "nbformat_minor": 2
}
